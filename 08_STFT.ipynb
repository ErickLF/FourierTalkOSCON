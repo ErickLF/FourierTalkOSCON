{
 "cells": [
  {
   "cell_type": "code",
   "execution_count": null,
   "metadata": {
    "collapsed": true
   },
   "outputs": [],
   "source": [
    "%matplotlib inline\n",
    "import matplotlib.pyplot as plt\n",
    "import numpy as np\n",
    "import scipy\n",
    "import scipy.io.wavfile\n",
    "\n",
    "def setup_graph(title='', x_label='', y_label='', fig_size=None):\n",
    "    fig = plt.figure()\n",
    "    if fig_size != None:\n",
    "        fig.set_size_inches(fig_size[0], fig_size[1])\n",
    "    ax = fig.add_subplot(111)\n",
    "    ax.set_title(title)\n",
    "    ax.set_xlabel(x_label)\n",
    "    ax.set_ylabel(y_label)"
   ]
  },
  {
   "cell_type": "markdown",
   "metadata": {},
   "source": [
    "# Short-time Fourier Transform (STFT)\n",
    "\n",
    "Procedure:\n",
    "\n",
    "* Break audio file into (overlapping) chunks\n",
    "* Apply a window to each chunk\n",
    "* Run windowed chunk through the FFT\n"
   ]
  },
  {
   "cell_type": "markdown",
   "metadata": {},
   "source": [
    "# Hamming Window"
   ]
  },
  {
   "cell_type": "code",
   "execution_count": null,
   "metadata": {
    "collapsed": true
   },
   "outputs": [],
   "source": [
    "sample_rate = 100 # in samples per second\n",
    "total_time = 10   # in seconds\n",
    "t = np.linspace(0, total_time, total_time * sample_rate)\n",
    "original = [5 for i in t]"
   ]
  },
  {
   "cell_type": "code",
   "execution_count": null,
   "metadata": {},
   "outputs": [],
   "source": [
    "setup_graph(title='f(x) = 5 function', x_label='time (in seconds)', y_label='amplitude')\n",
    "_ = plt.plot(t, original)"
   ]
  },
  {
   "cell_type": "code",
   "execution_count": null,
   "metadata": {
    "collapsed": true
   },
   "outputs": [],
   "source": [
    "window_size = 100 # 100 points (which is 1 second in this case)\n",
    "hop_size = window_size // 2"
   ]
  },
  {
   "cell_type": "code",
   "execution_count": null,
   "metadata": {
    "collapsed": true
   },
   "outputs": [],
   "source": [
    "window = scipy.hamming(window_size)"
   ]
  },
  {
   "cell_type": "markdown",
   "metadata": {},
   "source": [
    "# What the windows look like"
   ]
  },
  {
   "cell_type": "code",
   "execution_count": null,
   "metadata": {},
   "outputs": [],
   "source": [
    "def flatten(lst):\n",
    "    return [item for sublist in lst for item in sublist]\n",
    "\n",
    "window_times = [t[i:i+window_size] for i in range(0, len(original)-window_size, hop_size)]\n",
    "window_graphs = [[wtime, window] for wtime in window_times]\n",
    "flattened_window_graphs = flatten(window_graphs)\n",
    "\n",
    "setup_graph(title='Hamming windows', x_label='time (in seconds)', y_label='amplitude', fig_size=(14,5))\n",
    "_ = plt.plot(*flattened_window_graphs)"
   ]
  },
  {
   "cell_type": "markdown",
   "metadata": {},
   "source": [
    "# Break up into chunks and apply window"
   ]
  },
  {
   "cell_type": "code",
   "execution_count": null,
   "metadata": {
    "collapsed": true
   },
   "outputs": [],
   "source": [
    "windowed = [window * original[i:i+window_size] for i in range(0, len(original)-window_size, hop_size)]"
   ]
  },
  {
   "cell_type": "markdown",
   "metadata": {},
   "source": [
    "# Put windowed chunks back together (and compare to original)\n",
    "\n",
    "### (This is like what the inverse STFT does)"
   ]
  },
  {
   "cell_type": "code",
   "execution_count": null,
   "metadata": {
    "collapsed": true
   },
   "outputs": [],
   "source": [
    "convoluted = scipy.zeros(total_time * sample_rate)\n",
    "for n,i in enumerate(range(0, len(original)-window_size, hop_size)):\n",
    "    convoluted[i:i+window_size] += windowed[n]"
   ]
  },
  {
   "cell_type": "code",
   "execution_count": null,
   "metadata": {},
   "outputs": [],
   "source": [
    "setup_graph(title='Resynthesized windowed parts (vs original)', x_label='time (in seconds)', y_label='amplitude', fig_size=(14,5))\n",
    "_ = plt.plot(t, original, t, convoluted)"
   ]
  },
  {
   "cell_type": "markdown",
   "metadata": {},
   "source": [
    "# STFT Code"
   ]
  },
  {
   "cell_type": "code",
   "execution_count": null,
   "metadata": {
    "collapsed": true
   },
   "outputs": [],
   "source": [
    "def stft(input_data, sample_rate, window_size, hop_size):\n",
    "    window = scipy.hamming(window_size)\n",
    "    output = scipy.array([scipy.fft(window*input_data[i:i+window_size]) \n",
    "                         for i in range(0, len(input_data)-window_size, hop_size)])\n",
    "    return output\n",
    "\n",
    "def istft(input_data, sample_rate, window_size, hop_size, total_time):\n",
    "    output = scipy.zeros(total_time*sample_rate)\n",
    "    for n,i in enumerate(range(0, len(output)-window_size, hop_size)):\n",
    "        output[i:i+window_size] += scipy.real(scipy.ifft(input_data[n]))\n",
    "    return output\n"
   ]
  },
  {
   "cell_type": "markdown",
   "metadata": {},
   "source": [
    "# Spectrogram\n",
    "\n",
    "### The Frequency/Time Uncertainty principle"
   ]
  },
  {
   "cell_type": "code",
   "execution_count": null,
   "metadata": {},
   "outputs": [],
   "source": [
    "(doremi_sample_rate, doremi) = scipy.io.wavfile.read(\"audio_files/do-re-mi.wav\")\n",
    "doremi_8000hz = [doremi[i] for i in range(0, len(doremi), 44100//8000)]\n",
    "\n",
    "setup_graph(title='Spectrogram (window size = 256)', x_label='time (in seconds)', y_label='frequency', fig_size=(14,7))\n",
    "_ = plt.specgram(doremi_8000hz, Fs=8000, NFFT=256)"
   ]
  },
  {
   "cell_type": "code",
   "execution_count": null,
   "metadata": {},
   "outputs": [],
   "source": [
    "setup_graph(title='Spectrogram (window size = 512)', x_label='time (in seconds)', y_label='frequency', fig_size=(14,7))\n",
    "_ = plt.specgram(doremi_8000hz, Fs=8000, NFFT=512)"
   ]
  },
  {
   "cell_type": "code",
   "execution_count": null,
   "metadata": {},
   "outputs": [],
   "source": [
    "setup_graph(title='Spectrogram (window size = 1024)', x_label='time (in seconds)', y_label='frequency', fig_size=(14,7))\n",
    "_ = plt.specgram(doremi_8000hz, Fs=8000, NFFT=1024)"
   ]
  },
  {
   "cell_type": "code",
   "execution_count": null,
   "metadata": {},
   "outputs": [],
   "source": [
    "setup_graph(title='Spectrogram (window size = 2048)', x_label='time (in seconds)', y_label='frequency', fig_size=(14,7))\n",
    "_ = plt.specgram(doremi_8000hz, Fs=8000, NFFT=2048)"
   ]
  },
  {
   "cell_type": "code",
   "execution_count": null,
   "metadata": {},
   "outputs": [],
   "source": [
    "setup_graph(title='Spectrogram (window size = 8000)', x_label='time (in seconds)', y_label='frequency', fig_size=(14,7))\n",
    "_ = plt.specgram(doremi_8000hz, Fs=8000, NFFT=8000)"
   ]
  },
  {
   "cell_type": "markdown",
   "metadata": {},
   "source": [
    "## Meaning\n",
    "\n",
    "* So we see that as we take more samples for each FFT, we know more about the frequency\n",
    "* But since we are taking more samples to represent each \"block\", the time resolution goes down (since the time block is larger)\n",
    "\n",
    "## FFT Bin Size\n",
    "\n",
    "$$fft\\ bin\\ size = \\frac{sample\\ rate}{window\\ size}$$\n",
    "\n",
    "* So the larger the window size, the smaller the fft bin size (better frequency resolution)\n",
    "* And the smaller the window size, the larger the fft bin size (worse frequency resolution)"
   ]
  }
 ],
 "metadata": {
  "kernelspec": {
   "display_name": "Python [default]",
   "language": "python",
   "name": "python3"
  },
  "language_info": {
   "codemirror_mode": {
    "name": "ipython",
    "version": 3
   },
   "file_extension": ".py",
   "mimetype": "text/x-python",
   "name": "python",
   "nbconvert_exporter": "python",
   "pygments_lexer": "ipython3",
   "version": "3.5.4"
  }
 },
 "nbformat": 4,
 "nbformat_minor": 1
}
