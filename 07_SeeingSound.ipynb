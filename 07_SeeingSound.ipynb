{
 "cells": [
  {
   "cell_type": "code",
   "execution_count": null,
   "metadata": {
    "collapsed": true
   },
   "outputs": [],
   "source": [
    "%matplotlib inline\n",
    "import matplotlib.pyplot as plt\n",
    "import numpy as np\n",
    "import scipy\n",
    "import scipy.io.wavfile\n",
    "import IPython\n",
    "\n",
    "def setup_graph(title='', x_label='', y_label='', fig_size=None):\n",
    "    fig = plt.figure()\n",
    "    if fig_size != None:\n",
    "        fig.set_size_inches(fig_size[0], fig_size[1])\n",
    "    ax = fig.add_subplot(111)\n",
    "    ax.set_title(title)\n",
    "    ax.set_xlabel(x_label)\n",
    "    ax.set_ylabel(y_label)"
   ]
  },
  {
   "cell_type": "markdown",
   "metadata": {},
   "source": [
    "# Seeing sound!"
   ]
  },
  {
   "cell_type": "code",
   "execution_count": null,
   "metadata": {
    "collapsed": true
   },
   "outputs": [],
   "source": [
    "# NOTE: This is only works with 1 channel (mono).  To record a mono audio sample,\n",
    "# you can use this command: rec -r 44100 -c 1 -b 16 test.wav\n",
    "(sample_rate, input_signal) = scipy.io.wavfile.read(\"audio_files/vowel_ah.wav\")\n",
    "time_array = np.arange(0, len(input_signal)/sample_rate, 1/sample_rate)"
   ]
  },
  {
   "cell_type": "code",
   "execution_count": null,
   "metadata": {},
   "outputs": [],
   "source": [
    "setup_graph(title='Ah vowel sound', x_label='time (in seconds)', y_label='amplitude', fig_size=(14,7))\n",
    "_ = plt.plot(time_array[0:4000], input_signal[0:4000])"
   ]
  },
  {
   "cell_type": "code",
   "execution_count": null,
   "metadata": {},
   "outputs": [],
   "source": [
    "IPython.display.Audio(data=input_signal, rate=sample_rate)"
   ]
  },
  {
   "cell_type": "code",
   "execution_count": null,
   "metadata": {},
   "outputs": [],
   "source": [
    "fft_out = np.fft.rfft(input_signal)\n",
    "fft_mag = [np.sqrt(i.real**2 + i.imag**2)/len(fft_out) for i in fft_out]\n",
    "num_samples = len(input_signal)\n",
    "rfreqs = [(i*1.0/num_samples)*sample_rate for i in range(num_samples//2+1)]\n",
    "\n",
    "setup_graph(title='FFT of Ah Vowel (first 5000)', x_label='FFT Bins', y_label='magnitude', fig_size=(14,7))\n",
    "_ = plt.plot(rfreqs[0:5000], fft_mag[0:5000])"
   ]
  },
  {
   "cell_type": "markdown",
   "metadata": {},
   "source": [
    "## Few notes about this\n",
    "\n",
    "* Ratio of harmonics = **timbre** = This is what makes different people's voices sound different (and different from violins)\n",
    "    - Even if they are singing the same note, and the same volume\n",
    "* Possible application: synthesizing new sounds (with different harmonic profiles)\n",
    "    - Example: If you changed the ratio of the harmonics, you could make your voice sound like something else (Darth Vader?)"
   ]
  },
  {
   "cell_type": "markdown",
   "metadata": {},
   "source": [
    "# Spectrogram (FFT over time)\n",
    "\n",
    "### Axes\n",
    "\n",
    "* x-axis: time\n",
    "* y-axis: frequency\n",
    "* z-axis (color): strength of each frequency\n",
    "\n",
    "### See the Harmonics!"
   ]
  },
  {
   "cell_type": "code",
   "execution_count": null,
   "metadata": {},
   "outputs": [],
   "source": [
    "(doremi_sample_rate, doremi) = scipy.io.wavfile.read(\"audio_files/do-re-mi.wav\")\n",
    "IPython.display.Audio(data=doremi, rate=doremi_sample_rate)"
   ]
  },
  {
   "cell_type": "code",
   "execution_count": null,
   "metadata": {},
   "outputs": [],
   "source": [
    "setup_graph(title='Spectrogram of diatonic scale (44100Hz sample rate)', x_label='time (in seconds)', y_label='frequency', fig_size=(14,8))\n",
    "_ = plt.specgram(doremi, Fs=doremi_sample_rate)"
   ]
  },
  {
   "cell_type": "code",
   "execution_count": null,
   "metadata": {},
   "outputs": [],
   "source": [
    "doremi_8000hz = [doremi[i] for i in range(0, len(doremi), 44100//8000)]\n",
    "setup_graph(title='Spectrogram (8000Hz sample rate)', x_label='time (in seconds)', y_label='frequency', fig_size=(14,7))\n",
    "_ = plt.specgram(doremi_8000hz, Fs=8000)"
   ]
  },
  {
   "cell_type": "code",
   "execution_count": null,
   "metadata": {},
   "outputs": [],
   "source": [
    "doremi_4000hz = [doremi[i] for i in range(0, len(doremi), 44100//4000)]\n",
    "setup_graph(title='Spectrogram (4000Hz sample rate)', x_label='time (in seconds)', y_label='frequency', fig_size=(14,7))\n",
    "_ = plt.specgram(doremi_4000hz, Fs=4000)"
   ]
  },
  {
   "cell_type": "markdown",
   "metadata": {},
   "source": [
    "## A few things to note\n",
    "\n",
    "* Something that sounds like a single note actually is made up of a bunch of harmonics\n",
    "* Harmonics are integer multiples of the *fundamental frequency*\n",
    "* Notice that the spacing between the harmonics of the first note is about double of the spacing between the harmonics in the last note (1 octave difference)"
   ]
  }
 ],
 "metadata": {
  "kernelspec": {
   "display_name": "Python [default]",
   "language": "python",
   "name": "python3"
  },
  "language_info": {
   "codemirror_mode": {
    "name": "ipython",
    "version": 3
   },
   "file_extension": ".py",
   "mimetype": "text/x-python",
   "name": "python",
   "nbconvert_exporter": "python",
   "pygments_lexer": "ipython3",
   "version": "3.5.4"
  }
 },
 "nbformat": 4,
 "nbformat_minor": 1
}
