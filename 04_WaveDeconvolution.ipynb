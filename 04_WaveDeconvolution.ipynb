{
 "cells": [
  {
   "cell_type": "code",
   "execution_count": null,
   "metadata": {
    "collapsed": true
   },
   "outputs": [],
   "source": [
    "%matplotlib inline\n",
    "import matplotlib.pyplot as plt\n",
    "import numpy as np\n",
    "import scipy\n",
    "\n",
    "# Graphing helper function\n",
    "def setup_graph(title='', x_label='', y_label='', fig_size=None):\n",
    "    fig = plt.figure()\n",
    "    if fig_size != None:\n",
    "        fig.set_size_inches(fig_size[0], fig_size[1])\n",
    "    ax = fig.add_subplot(111)\n",
    "    ax.set_title(title)\n",
    "    ax.set_xlabel(x_label)\n",
    "    ax.set_ylabel(y_label)"
   ]
  },
  {
   "cell_type": "markdown",
   "metadata": {},
   "source": [
    "---"
   ]
  },
  {
   "cell_type": "markdown",
   "metadata": {},
   "source": [
    "# Wave Deconvolution - Multiplication and Addition\n",
    "\n",
    "* So a complex wave is made of simple waves.\n",
    "* How can you break a complex wave into it's simple component waves?\n",
    "\n",
    "### Answer: Multiplying a wave by another wave of frequency 100Hz cancels out all of the other component waves and leaves only the 100Hz component (kind of)."
   ]
  },
  {
   "cell_type": "code",
   "execution_count": null,
   "metadata": {},
   "outputs": [],
   "source": [
    "t = np.linspace(0, 3, 200)\n",
    "freq_1hz_amp_10 = 10 * np.sin(1 * 2*np.pi*t)\n",
    "freq_3hz_amp_5 =   5 * np.sin(3 * 2*np.pi*t)\n",
    "complex_wave = freq_1hz_amp_10 + freq_3hz_amp_5\n",
    "\n",
    "setup_graph(x_label='time (in seconds)', y_label='amplitude', title='original wave', fig_size=(12,6))\n",
    "_ = plt.plot(t, complex_wave)"
   ]
  },
  {
   "cell_type": "markdown",
   "metadata": {},
   "source": [
    "# Multiply complex wave by 1Hz wave"
   ]
  },
  {
   "cell_type": "code",
   "execution_count": null,
   "metadata": {},
   "outputs": [],
   "source": [
    "freq_1hz = np.sin(1 * 2*np.pi*t)\n",
    "setup_graph(x_label='time (in seconds)', y_label='amplitude', title='original wave * 1Hz wave', fig_size=(12,6))\n",
    "_ = plt.plot(t, complex_wave * freq_1hz)"
   ]
  },
  {
   "cell_type": "code",
   "execution_count": null,
   "metadata": {},
   "outputs": [],
   "source": [
    "sum(complex_wave*freq_1hz)"
   ]
  },
  {
   "cell_type": "code",
   "execution_count": null,
   "metadata": {},
   "outputs": [],
   "source": [
    "print(\"Amplitude of 1hz component: \", sum(complex_wave*freq_1hz) * 2.0 * 1.0/len(complex_wave))"
   ]
  },
  {
   "cell_type": "markdown",
   "metadata": {},
   "source": [
    "# Multiply complex wave by 3Hz wave\n",
    "\n",
    "Notice that more of the graph is above the x-axis then below it."
   ]
  },
  {
   "cell_type": "code",
   "execution_count": null,
   "metadata": {},
   "outputs": [],
   "source": [
    "freq_3hz = np.sin(3 * 2*np.pi*t)\n",
    "setup_graph(x_label='time (in seconds)', y_label='amplitude', title='complex wave * 3Hz wave', fig_size=(12,6))\n",
    "_ = plt.plot(t, complex_wave * freq_3hz)"
   ]
  },
  {
   "cell_type": "code",
   "execution_count": null,
   "metadata": {},
   "outputs": [],
   "source": [
    "sum(complex_wave*freq_3hz)"
   ]
  },
  {
   "cell_type": "code",
   "execution_count": null,
   "metadata": {},
   "outputs": [],
   "source": [
    "print(\"Amplitude of 3hz component: \", sum(complex_wave*freq_3hz) * 2.0/len(complex_wave))"
   ]
  },
  {
   "cell_type": "markdown",
   "metadata": {},
   "source": [
    "# Multiply complex wave by 2Hz wave\n",
    "\n",
    "Notice that an equal amount of the graph is above the x-axis as below it."
   ]
  },
  {
   "cell_type": "code",
   "execution_count": null,
   "metadata": {},
   "outputs": [],
   "source": [
    "freq_2hz = np.sin(2 * 2*np.pi*t) \n",
    "setup_graph(x_label='time (in seconds)', y_label='amplitude', title='complex wave * 2Hz wave', fig_size=(12,6))\n",
    "_ = plt.plot(t, complex_wave * freq_2hz)"
   ]
  },
  {
   "cell_type": "code",
   "execution_count": null,
   "metadata": {},
   "outputs": [],
   "source": [
    "sum(complex_wave*freq_2hz)"
   ]
  },
  {
   "cell_type": "code",
   "execution_count": null,
   "metadata": {},
   "outputs": [],
   "source": [
    "# Very close to 0\n",
    "print(\"Amplitude of 3hz component: \", sum(complex_wave*freq_2hz) * 2.0/len(complex_wave))"
   ]
  },
  {
   "cell_type": "code",
   "execution_count": null,
   "metadata": {},
   "outputs": [],
   "source": [
    "# Same with 4Hz - close to 0\n",
    "freq_4hz = np.sin(4 * 2*np.pi*t) \n",
    "sum(complex_wave*freq_4hz)"
   ]
  },
  {
   "cell_type": "markdown",
   "metadata": {},
   "source": [
    "# So how does this work?\n",
    "\n",
    "The summation of complex wave multiplied by simple wave of a given frequency leaves us with the \"power\" of that simple wave."
   ]
  }
 ],
 "metadata": {
  "kernelspec": {
   "display_name": "Python [default]",
   "language": "python",
   "name": "python3"
  },
  "language_info": {
   "codemirror_mode": {
    "name": "ipython",
    "version": 3
   },
   "file_extension": ".py",
   "mimetype": "text/x-python",
   "name": "python",
   "nbconvert_exporter": "python",
   "pygments_lexer": "ipython3",
   "version": "3.5.4"
  }
 },
 "nbformat": 4,
 "nbformat_minor": 1
}
