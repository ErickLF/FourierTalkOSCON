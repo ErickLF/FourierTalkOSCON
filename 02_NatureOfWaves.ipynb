{
 "cells": [
  {
   "cell_type": "code",
   "execution_count": null,
   "metadata": {},
   "outputs": [],
   "source": [
    "%matplotlib inline\n",
    "import matplotlib.pyplot as plt\n",
    "import numpy as np\n",
    "import scipy\n",
    "\n",
    "# Graphing helper function\n",
    "def setup_graph(title='', x_label='', y_label='', fig_size=None):\n",
    "    fig = plt.figure()\n",
    "    if fig_size != None:\n",
    "        fig.set_size_inches(fig_size[0], fig_size[1])\n",
    "    ax = fig.add_subplot(111)\n",
    "    ax.set_title(title)\n",
    "    ax.set_xlabel(x_label)\n",
    "    ax.set_ylabel(y_label)"
   ]
  },
  {
   "cell_type": "markdown",
   "metadata": {},
   "source": [
    "---"
   ]
  },
  {
   "cell_type": "markdown",
   "metadata": {},
   "source": [
    "# The Nature of Waves\n",
    "\n",
    "We're mainly going to talk about sound waves, but many of these things will apply to other types of waves.\n",
    "\n",
    "## How do we represent waves?"
   ]
  },
  {
   "cell_type": "code",
   "execution_count": null,
   "metadata": {},
   "outputs": [],
   "source": [
    "freq = 1 #hz - cycles per second\n",
    "amplitude = 3\n",
    "time_to_plot = 2 # second\n",
    "sample_rate = 100 # samples per second\n",
    "num_samples = sample_rate * time_to_plot\n",
    "\n",
    "t = np.linspace(0, time_to_plot, num_samples)\n",
    "signal = [amplitude * np.sin(freq * i * 2*np.pi) for i in t] # Explain the 2*pi\n",
    "\n",
    "setup_graph(x_label='time (in seconds)', y_label='amplitude', title='time domain')\n",
    "plt.plot(t, signal)"
   ]
  },
  {
   "cell_type": "markdown",
   "metadata": {},
   "source": [
    "## In the context of sound, what would a wave like this represent?\n",
    "\n",
    "* Answer: Changes in air pressure\n",
    "* When the graph is above x=0, the pressure of the air is more than \"normal\" (air is moving toward you)\n",
    "* When the graph is below x=0, the pressure of the air is less than \"normal\" (air is moving away from you)"
   ]
  },
  {
   "cell_type": "markdown",
   "metadata": {},
   "source": [
    "# Example of a real sound wave"
   ]
  },
  {
   "cell_type": "code",
   "execution_count": null,
   "metadata": {},
   "outputs": [],
   "source": [
    "import scipy.io.wavfile\n",
    "\n",
    "(sample_rate, input_signal) = scipy.io.wavfile.read(\"audio_files/vowel_ah.wav\")\n",
    "time_array = np.arange(0, len(input_signal)/sample_rate, 1/sample_rate)\n",
    "setup_graph(title='Ah vowel sound', x_label='time (in seconds)', y_label='amplitude', fig_size=(14,7))\n",
    "_ = plt.plot(time_array[0:4000], input_signal[0:4000])"
   ]
  },
  {
   "cell_type": "code",
   "execution_count": null,
   "metadata": {},
   "outputs": [],
   "source": [
    "import IPython\n",
    "IPython.display.Audio(data=input_signal, rate=sample_rate)"
   ]
  },
  {
   "cell_type": "markdown",
   "metadata": {},
   "source": [
    "# The Superposition Principle\n",
    "\n",
    "* If you add a bunch of waves together, it forms one wave.\n",
    "* Hearing me talk while knocking on the desk\n",
    "\n",
    "# Example"
   ]
  },
  {
   "cell_type": "code",
   "execution_count": null,
   "metadata": {},
   "outputs": [],
   "source": [
    "# Two subplots, the axes array is 1-d\n",
    "x = np.linspace(0, 2 * np.pi, 100)\n",
    "y1 = 5 * np.sin(x)\n",
    "y2 = 0 * np.sin(2*x)\n",
    "y3 = 3 * np.sin(3*x)\n",
    "y4 = 2 * np.sin(4*x)\n",
    "\n",
    "f, axarr = plt.subplots(4, sharex=True, sharey=True)\n",
    "f.set_size_inches(12,6)\n",
    "axarr[0].plot(x, y1)\n",
    "axarr[1].plot(x, y2)\n",
    "axarr[2].plot(x, y3)\n",
    "axarr[3].plot(x, y4)\n",
    "_ = plt.show()"
   ]
  },
  {
   "cell_type": "code",
   "execution_count": null,
   "metadata": {},
   "outputs": [],
   "source": [
    "setup_graph(x_label='time', y_label='amplitude', title='y1+y2+y3+y4', fig_size=(12,6))\n",
    "convoluted_wave = y1 + y2 + y3 + y4\n",
    "_ = plt.plot(x, convoluted_wave)"
   ]
  },
  {
   "cell_type": "markdown",
   "metadata": {},
   "source": [
    "# Wave Interference Example\n",
    "\n",
    "### This is how noise-canceling headphones work"
   ]
  },
  {
   "cell_type": "code",
   "execution_count": null,
   "metadata": {},
   "outputs": [],
   "source": [
    "y5 = np.sin(3 * x)\n",
    "y6 = -1 * np.sin(3 * x)\n",
    "\n",
    "f, axarr = plt.subplots(3, sharex=True, sharey=True)\n",
    "f.set_size_inches(12,6)\n",
    "axarr[0].plot(x, y5, 'b')\n",
    "axarr[1].plot(x, y6, 'g')\n",
    "axarr[2].plot(x, y5 + y6, 'r')\n",
    "_ = plt.show()"
   ]
  }
 ],
 "metadata": {
  "kernelspec": {
   "display_name": "Python [default]",
   "language": "python",
   "name": "python3"
  },
  "language_info": {
   "codemirror_mode": {
    "name": "ipython",
    "version": 3
   },
   "file_extension": ".py",
   "mimetype": "text/x-python",
   "name": "python",
   "nbconvert_exporter": "python",
   "pygments_lexer": "ipython3",
   "version": "3.5.4"
  }
 },
 "nbformat": 4,
 "nbformat_minor": 1
}
