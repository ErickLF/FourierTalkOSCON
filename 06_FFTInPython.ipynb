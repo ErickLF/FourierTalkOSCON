{
 "cells": [
  {
   "cell_type": "code",
   "execution_count": null,
   "metadata": {
    "collapsed": true
   },
   "outputs": [],
   "source": [
    "%matplotlib inline\n",
    "import matplotlib.pyplot as plt\n",
    "import numpy as np\n",
    "import scipy\n",
    "\n",
    "# Graphing helper function\n",
    "def setup_graph(title='', x_label='', y_label='', fig_size=None):\n",
    "    fig = plt.figure()\n",
    "    if fig_size != None:\n",
    "        fig.set_size_inches(fig_size[0], fig_size[1])\n",
    "    ax = fig.add_subplot(111)\n",
    "    ax.set_title(title)\n",
    "    ax.set_xlabel(x_label)\n",
    "    ax.set_ylabel(y_label)"
   ]
  },
  {
   "cell_type": "markdown",
   "metadata": {},
   "source": [
    "# Sampling a test function\n",
    "\n",
    "Wave with:\n",
    "\n",
    "* Frequency of 1 Hz\n",
    "* Amplitude of 5\n",
    "\n",
    "We will sample:\n",
    "\n",
    "* At 10 samples per second\n",
    "* For 3 seconds\n",
    "* So a total of 30 samples"
   ]
  },
  {
   "cell_type": "code",
   "execution_count": null,
   "metadata": {
    "collapsed": true
   },
   "outputs": [],
   "source": [
    "sample_rate = 10 # samples per sec\n",
    "total_sampling_time = 3\n",
    "num_samples = sample_rate * total_sampling_time\n",
    "\n",
    "t = np.linspace(0, total_sampling_time, num_samples)\n",
    "\n",
    "# between x = 0 and x = 1, a complete revolution (2 pi) has been made, so this is\n",
    "# a 1 Hz signal with an amplitude of 5\n",
    "frequency_in_hz = 1\n",
    "wave_amplitude = 5\n",
    "f = lambda x: wave_amplitude * np.sin(frequency_in_hz * 2*np.pi*x)\n",
    "    \n",
    "sampled_f = [f(i) for i in t]\n"
   ]
  },
  {
   "cell_type": "code",
   "execution_count": null,
   "metadata": {},
   "outputs": [],
   "source": [
    "setup_graph(title='time domain', x_label='time (in seconds)', y_label='amplitude', fig_size=(12,6))\n",
    "_ = plt.plot(t, sampled_f)"
   ]
  },
  {
   "cell_type": "markdown",
   "metadata": {},
   "source": [
    "# Take the fft"
   ]
  },
  {
   "cell_type": "code",
   "execution_count": null,
   "metadata": {
    "collapsed": true
   },
   "outputs": [],
   "source": [
    "fft_output = np.fft.fft(sampled_f)"
   ]
  },
  {
   "cell_type": "code",
   "execution_count": null,
   "metadata": {},
   "outputs": [],
   "source": [
    "setup_graph(title='FFT output', x_label='FFT bins', y_label='amplitude', fig_size=(12,6))\n",
    "_ = plt.plot(fft_output)"
   ]
  },
  {
   "cell_type": "markdown",
   "metadata": {},
   "source": [
    "# Why is it symmetric?\n",
    "\n",
    "* Because it is a complex-input fourier transform, and for real input, the 2nd half will always be a mirror image.\n",
    "* For real-valued input, the fft output is always symmetric.\n",
    "* Since we are only dealing with real input, let's just use a real-input version of the fft."
   ]
  },
  {
   "cell_type": "code",
   "execution_count": null,
   "metadata": {
    "collapsed": true
   },
   "outputs": [],
   "source": [
    "rfft_output = np.fft.rfft(sampled_f)"
   ]
  },
  {
   "cell_type": "code",
   "execution_count": null,
   "metadata": {},
   "outputs": [],
   "source": [
    "setup_graph(title='rFFT output', x_label='frequency (in Hz)', y_label='amplitude', fig_size=(12,6))\n",
    "_ = plt.plot(rfft_output)"
   ]
  },
  {
   "cell_type": "markdown",
   "metadata": {},
   "source": [
    "# Get the x-axis labels correct\n",
    "\n",
    "## We want the x-axis to represent frequency\n",
    "\n",
    "In our DFT equation $$G(\\frac{n}{N}) = \\sum_{k=0}^{N-1} g(k) e^{-i 2 \\pi k \\frac{n}{N} }$$\n",
    "\n",
    "* $G(\\frac{n}{N})$ means the DFT output for the frequency which goes through $\\frac{n}{N}$ cycles per sample.\n",
    "* And we take frequencies from 0 to (the total number of samples divided by 2)"
   ]
  },
  {
   "cell_type": "code",
   "execution_count": null,
   "metadata": {
    "collapsed": true
   },
   "outputs": [],
   "source": [
    "# Getting frequencies on x-axis right\n",
    "rfreqs = [(i*1.0/num_samples)*sample_rate for i in range(num_samples//2+1)]"
   ]
  },
  {
   "cell_type": "markdown",
   "metadata": {},
   "source": [
    "### Frequencies range from 0 to the Nyquist Frequency (sample rate / 2)"
   ]
  },
  {
   "cell_type": "code",
   "execution_count": null,
   "metadata": {},
   "outputs": [],
   "source": [
    "# So you can see, our frequencies go from 0 to 5Hz.  5 is half of the sample rate,\n",
    "# which is what it should be (Nyquist Frequency).\n",
    "rfreqs"
   ]
  },
  {
   "cell_type": "code",
   "execution_count": null,
   "metadata": {},
   "outputs": [],
   "source": [
    "setup_graph(title='Corrected rFFT Output', x_label='frequency (in Hz)', y_label='amplitude', fig_size=(12,6))\n",
    "_ = plt.plot(rfreqs, rfft_output)"
   ]
  },
  {
   "cell_type": "markdown",
   "metadata": {},
   "source": [
    "# Getting y-axis labels correct\n",
    "\n",
    "## We want the y-axis to represent magnitude\n",
    "\n",
    "We are actually getting negative values, and it looks like our amplitude is way larger than what it should be (which is 5).\n",
    "\n",
    "The magnitude of each component is:\n",
    "\n",
    "$$magnitude(i) = \\frac{\\sqrt{i.real^2 + i.imag^2}}{N}$$"
   ]
  },
  {
   "cell_type": "code",
   "execution_count": null,
   "metadata": {
    "collapsed": true
   },
   "outputs": [],
   "source": [
    "rfft_mag = [np.sqrt(i.real**2 + i.imag**2)/len(rfft_output) for i in rfft_output]"
   ]
  },
  {
   "cell_type": "code",
   "execution_count": null,
   "metadata": {},
   "outputs": [],
   "source": [
    "setup_graph(title='Corrected rFFT Output', x_label='frequency (in Hz)', y_label='magnitude', fig_size=(12,6))\n",
    "_ = plt.plot(rfreqs, rfft_mag)"
   ]
  },
  {
   "cell_type": "markdown",
   "metadata": {},
   "source": [
    "# Inverse FFT\n",
    "\n",
    "We can take the output of the FFT and perform an Inverse FFT to get back to our original wave (using the Inverse Real FFT - irfft)."
   ]
  },
  {
   "cell_type": "code",
   "execution_count": null,
   "metadata": {
    "collapsed": true
   },
   "outputs": [],
   "source": [
    "irfft_output = np.fft.irfft(rfft_output)"
   ]
  },
  {
   "cell_type": "code",
   "execution_count": null,
   "metadata": {},
   "outputs": [],
   "source": [
    "setup_graph(title='Inverse rFFT Output', x_label='time (in seconds)', y_label='amplitude', fig_size=(12,6))\n",
    "_ = plt.plot(t, irfft_output)"
   ]
  },
  {
   "cell_type": "code",
   "execution_count": null,
   "metadata": {
    "collapsed": true
   },
   "outputs": [],
   "source": []
  }
 ],
 "metadata": {
  "kernelspec": {
   "display_name": "Python [default]",
   "language": "python",
   "name": "python3"
  },
  "language_info": {
   "codemirror_mode": {
    "name": "ipython",
    "version": 3
   },
   "file_extension": ".py",
   "mimetype": "text/x-python",
   "name": "python",
   "nbconvert_exporter": "python",
   "pygments_lexer": "ipython3",
   "version": "3.5.4"
  }
 },
 "nbformat": 4,
 "nbformat_minor": 1
}
