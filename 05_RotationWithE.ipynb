{
 "cells": [
  {
   "cell_type": "code",
   "execution_count": null,
   "metadata": {
    "collapsed": true
   },
   "outputs": [],
   "source": [
    "%matplotlib inline\n",
    "import matplotlib.pyplot as plt\n",
    "import numpy as np\n",
    "import scipy\n",
    "\n",
    "# Graphing helper function\n",
    "def setup_graph(title='', x_label='', y_label='', fig_size=None):\n",
    "    fig = plt.figure()\n",
    "    if fig_size != None:\n",
    "        fig.set_size_inches(fig_size[0], fig_size[1])\n",
    "    ax = fig.add_subplot(111)\n",
    "    ax.set_title(title)\n",
    "    ax.set_xlabel(x_label)\n",
    "    ax.set_ylabel(y_label)"
   ]
  },
  {
   "cell_type": "markdown",
   "metadata": {},
   "source": [
    "---"
   ]
  },
  {
   "cell_type": "markdown",
   "metadata": {},
   "source": [
    "# Euler's Formula\n",
    "$$e^{ix} = \\cos(x) + i \\sin(x)$$\n",
    "\n",
    "\n",
    "So raising $e^{ix}$ produces rotation (in the Complex plane)\n",
    "\n",
    "\n",
    "## Related to Euler's Identity\n",
    "\n",
    "$$e^{i \\pi} + 1 = 0$$\n",
    "\n",
    "* At $x = \\pi$, $\\sin(\\pi) = 0$, and $\\cos(\\pi) = -1$\n",
    "* So $e^{i \\pi} = -1 + 0$\n",
    "* Move the 1 over: $e^{i \\pi} + 1 = 0$\n",
    "\n",
    "## Complex Plane\n",
    "![Complex Plane](images/complex_plane.jpg)"
   ]
  },
  {
   "cell_type": "code",
   "execution_count": null,
   "metadata": {},
   "outputs": [],
   "source": [
    "# Generate some complex numbers, and convert them to (x,y) coordinates\n",
    "complex_points = [np.e**(1j * i) for i in np.linspace(0, 2*np.pi, 16)]\n",
    "real_parts = [z.real for z in complex_points]\n",
    "imag_parts = [z.imag for z in complex_points]\n",
    "\n",
    "# Matplotlib code to draw graph\n",
    "fig = plt.figure()\n",
    "fig.set_size_inches(6, 6)\n",
    "ax = fig.add_subplot(111)\n",
    "ax.spines['left'].set_position('center')\n",
    "ax.spines['bottom'].set_position('center')\n",
    "ax.spines['top'].set_color('none')\n",
    "ax.spines['right'].set_color('none')\n",
    "ax.set_xlim((-1.5,1.5))\n",
    "ax.set_xticks(np.linspace(-1.5,1.5,4))\n",
    "ax.set_ylim((-1.5,1.5))\n",
    "ax.set_yticks(np.linspace(-1.5,1.5,4))\n",
    "ax.annotate(\"{0} + {1}i\".format(real_parts[1], imag_parts[1]), xy=(real_parts[1], \\\n",
    "            imag_parts[1]), xytext=(1,1), arrowprops=dict(facecolor='black', shrink=0.08))\n",
    "\n",
    "_ = plt.plot(real_parts, imag_parts, 'go')"
   ]
  },
  {
   "cell_type": "markdown",
   "metadata": {},
   "source": [
    "### Going around a circle produces sine and cosine waves\n",
    "\n",
    "![sine_curve](images/Sine_curve_drawing_animation.gif)"
   ]
  },
  {
   "cell_type": "markdown",
   "metadata": {},
   "source": [
    "# Circles produce sin (and cos) waves"
   ]
  },
  {
   "cell_type": "code",
   "execution_count": null,
   "metadata": {
    "collapsed": true
   },
   "outputs": [],
   "source": [
    "t = np.linspace(0, 3 * 2*np.pi, 100)\n",
    "e_func = [np.e**(1j * i) for i in t]"
   ]
  },
  {
   "cell_type": "code",
   "execution_count": null,
   "metadata": {},
   "outputs": [],
   "source": [
    "setup_graph(title='real part (cosine) of e^ix', x_label='time', y_label='amplitude of real part', fig_size=(12,6))\n",
    "_ = plt.plot(t, [i.real for i in e_func])"
   ]
  },
  {
   "cell_type": "code",
   "execution_count": null,
   "metadata": {},
   "outputs": [],
   "source": [
    "setup_graph(title='imaginary part (sin) of e^ix', x_label='time', y_label='amplitude of imaginary part', fig_size=(12,6))\n",
    "_ = plt.plot(t, [i.imag for i in e_func])"
   ]
  }
 ],
 "metadata": {
  "kernelspec": {
   "display_name": "Python [default]",
   "language": "python",
   "name": "python3"
  },
  "language_info": {
   "codemirror_mode": {
    "name": "ipython",
    "version": 3
   },
   "file_extension": ".py",
   "mimetype": "text/x-python",
   "name": "python",
   "nbconvert_exporter": "python",
   "pygments_lexer": "ipython3",
   "version": "3.5.4"
  }
 },
 "nbformat": 4,
 "nbformat_minor": 1
}
